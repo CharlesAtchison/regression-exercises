{
 "cells": [
  {
   "cell_type": "markdown",
   "id": "fdda22df",
   "metadata": {},
   "source": [
    "# Scaling Numeric Data\n",
    "\n",
    "## Exercises\n",
    "\n",
    "> - Utilize the scaling methods covered in the material\n",
    "    * __Min-Max Scaling__\n",
    "    ![min-max_scalar](images/min-max_scalar.png)\n",
    "    * __Standard Scaler__\n",
    "    ![standard_scalar](images/standard_scalar.png)\n",
    "    * __Robust Scaler__\n",
    "    ![robust_scalar](images/robust_scalar.png)\n",
    "> - Apply the `.inverse_transform` method to the scaled data. Is the resulting dataset the exact same as the original? \n",
    "    * __As you can see below, the resulting data sets are not the same as the orginial data sets__\n",
    "    * __Min-Max Scaling Inverse__\n",
    "    |    |   bedroom |   bathroom |        sqft |   year |     tax_amt |   fips |\n",
    "    |---:|----------:|-----------:|------------:|-------:|------------:|-------:|\n",
    "    |  0 |        11 |        5.5 | 3.34568e+06 | 179820 | 6.64655e+07 | 454403 |\n",
    "    |  1 |        11 |       10   | 5.44779e+06 | 182641 | 5.69332e+07 | 452775 |\n",
    "    |  2 |         8 |        7   | 6.43923e+06 | 179638 | 3.59687e+07 | 452775 |\n",
    "    |  3 |        11 |        7   | 4.8175e+06  | 181549 | 5.35203e+07 | 458251 |\n",
    "    |  4 |        14 |        7   | 5.59089e+06 | 181094 | 1.11543e+07 | 454403 |\n",
    "    * __Standard Scaler Inverse__\n",
    "    |    |   bedroom |   bathroom |             sqft |    year |     tax_amt |   fips |\n",
    "    |---:|----------:|-----------:|-----------------:|--------:|------------:|-------:|\n",
    "    |  0 |   5.55142 |    3.10994 | 553707           | 38809.2 | 1.43578e+07 | 131250 |\n",
    "    |  1 |   5.55142 |    4.1598  | 900568           | 39393.5 | 1.22992e+07 | 130796 |\n",
    "    |  2 |   4.77423 |    3.45989 |      1.06416e+06 | 38771.5 | 7.77179e+06 | 130796 |\n",
    "    |  3 |   5.55142 |    3.45989 | 796566           | 39167.3 | 1.15622e+07 | 132325 |\n",
    "    |  4 |   6.32862 |    3.45989 | 924180           | 39073.1 | 2.41292e+06 | 131250 |\n",
    "    * __Robust Scaler Inverse__\n",
    "    |    |   bedroom |   bathroom |             sqft |   year |     tax_amt |   fips |\n",
    "    |---:|----------:|-----------:|-----------------:|-------:|------------:|-------:|\n",
    "    |  0 |         6 |       2.75 | 740012           |  44967 | 2.00561e+07 | 139335 |\n",
    "    |  1 |         6 |       3.5  |      1.204e+06   |  45649 | 1.71802e+07 | 138851 |\n",
    "    |  2 |         5 |       3    |      1.42283e+06 |  44923 | 1.08553e+07 | 138851 |\n",
    "    |  3 |         6 |       3    |      1.06488e+06 |  45385 | 1.61506e+07 | 140479 |\n",
    "    |  4 |         7 |       3    |      1.23558e+06 |  45275 | 3.36894e+06 | 139335 |\n",
    "    \n",
    "> - Read the documentation for sklearn's `QuantileTransformer`. Use `normal` for the `output_distribution` and apply this scaler to your data. Visualize the result of your data scaling.\n",
    "    * __Quantile Transformer Normal__\n",
    "    ![quantile_transform_normal_image](images/quantile_transform_normal.png)\n",
    "> - Use the `QuantileTransformer`, but omit the `output_distribution` argument. Visualize your results. What do you notice?\n",
    "    * __Quantile Transformer__\n",
    "    ![quantile_transform_image](images/quantile_transform_without_normal.png)\n",
    "> - Based on the work you've done, choose a scaling method for your dataset. Write a function within your `prepare.py` that accepts as input the train, validate, and test data splits, and returns the scaled versions of each. Be sure to only learn the parameters for scaling from your training data!\n",
    "    "
   ]
  },
  {
   "cell_type": "code",
   "execution_count": 1,
   "id": "9ea9e524",
   "metadata": {},
   "outputs": [],
   "source": [
    "import matplotlib.pyplot as plt\n",
    "import numpy as np\n",
    "from scipy import stats\n",
    "from sklearn.preprocessing import (MinMaxScaler, StandardScaler,\n",
    "                                   RobustScaler, QuantileTransformer)\n",
    "from sklearn.model_selection import train_test_split\n",
    "import pandas as pd\n",
    "from wrangle import *\n",
    "\n",
    "import warnings\n",
    "warnings.filterwarnings('ignore')"
   ]
  },
  {
   "cell_type": "code",
   "execution_count": 2,
   "id": "565f3a1e",
   "metadata": {
    "scrolled": true
   },
   "outputs": [],
   "source": [
    "df = wrangle_zillow()"
   ]
  },
  {
   "cell_type": "code",
   "execution_count": 3,
   "id": "905afc1c",
   "metadata": {},
   "outputs": [
    {
     "data": {
      "image/png": "[encoded data removed]",
      "text/plain": [
       "<Figure size 936x432 with 2 Axes>"
      ]
     },
     "metadata": {
      "needs_background": "light"
     },
     "output_type": "display_data"
    }
   ],
   "source": [
    "target='tax_val'\n",
    "scaler = StandardScaler()\n",
    "train, validate, test = train_validate_test_split(df, target)\n",
    "\n",
    "# This is the final prepare.py function that further splits and scales the train, val, and test data.\n",
    "x_train_scaled, y_train, x_validate_scaled, y_validate, x_test_scaled, y_test = scale_data(\n",
    "    train, validate, test, scaler=scaler, target=target)"
   ]
  },
  {
   "cell_type": "code",
   "execution_count": 4,
   "id": "9b47df6b",
   "metadata": {
    "scrolled": false
   },
   "outputs": [
    {
     "name": "stdout",
     "output_type": "stream",
     "text": [
      "Train: (1009405, 7)\n",
      "Validate: (432603, 7)\n",
      "Test: (360503, 7)\n"
     ]
    }
   ],
   "source": [
    "print('Train:', train.shape)\n",
    "print('Validate:', validate.shape)\n",
    "print('Test:', test.shape)"
   ]
  },
  {
   "cell_type": "markdown",
   "id": "617dd19b",
   "metadata": {},
   "source": [
    "### Scalers"
   ]
  },
  {
   "cell_type": "code",
   "execution_count": 5,
   "id": "34aec7e7",
   "metadata": {
    "scrolled": false
   },
   "outputs": [],
   "source": [
    "scalers = {'Min-Max Scaler': MinMaxScaler(), 'Standard Scaler': StandardScaler(),\n",
    "           'Robust Scaler': RobustScaler(),\n",
    "           'Quantile Transformer w/ normal dist': QuantileTransformer(output_distribution='normal'),\n",
    "           'Quantile Transformer': QuantileTransformer()}\n",
    "\n",
    "fit_scalers = dict()\n",
    "\n",
    "# run this for loop to get scalers and transformations visualizations\n",
    "# for name, scaler in scalers.items():\n",
    "#     scaler.fit(x_train)\n",
    "\n",
    "#     x_train_scaled = scaler.transform(x_train)\n",
    "#     x_validate_scaled = scaler.transform(x_validate)\n",
    "#     x_test_scaled = scaler.transform(x_test)\n",
    "    \n",
    "#     fit_scalers[name] = scaler\n",
    "\n",
    "#     plt.figure(figsize=(13, 6))\n",
    "#     plt.subplot(121)\n",
    "#     plt.hist(x_train, ec='black')\n",
    "#     plt.title('Original')\n",
    "#     plt.subplot(122)\n",
    "#     plt.hist(x_train_scaled, ec='black')\n",
    "#     plt.title(name)"
   ]
  },
  {
   "cell_type": "code",
   "execution_count": 6,
   "id": "7bb37221",
   "metadata": {},
   "outputs": [],
   "source": [
    "# # Use below to revert scalar to original dataset\n",
    "# rename_index = {n:col_name for n, col_name in enumerate(x_cols)}\n",
    "        \n",
    "# for name, fit_scaler in fit_scalers.items():\n",
    "#     inverse_df = pd.DataFrame(fit_scaler.inverse_transform(x_train))\n",
    "#     inverse_df.rename(columns=rename_index, inplace=True)\n",
    "    \n",
    "#     print(inverse_df.head().to_markdown())"
   ]
  }
 ],
 "metadata": {
  "kernelspec": {
   "display_name": "Python 3",
   "language": "python",
   "name": "python3"
  },
  "language_info": {
   "codemirror_mode": {
    "name": "ipython",
    "version": 3
   },
   "file_extension": ".py",
   "mimetype": "text/x-python",
   "name": "python",
   "nbconvert_exporter": "python",
   "pygments_lexer": "ipython3",
   "version": "3.8.8"
  }
 },
 "nbformat": 4,
 "nbformat_minor": 5
}
