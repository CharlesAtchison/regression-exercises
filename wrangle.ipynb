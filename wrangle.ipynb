{
 "cells": [
  {
   "cell_type": "markdown",
   "id": "f8fbd68a",
   "metadata": {},
   "source": [
    "<center><h1>Acquire and Prep - Wrangle<h1></center>\n",
    "\n",
    "<a name ='toc'></a>\n",
    "# Table of Contents \n",
    "1. [Exercise Summary](#exercise_summary)\n",
    "    1. [Exercise Objectives](#exercise_objectives)\n",
    "    2. [Deliverables](#deliverables)\n",
    "2. [Acquire Data](#acquire)\n",
    "    1. [Data Dictonary](#data_dict)\n",
    "    2. [Data Description](#data_desc)\n",
    "    3. [Acquire Takeaways](#acquire_takeaways)\n",
    "3. [Prepare Data](#prep_data)\n",
    "    1. [Distributions](#distributions)\n",
    "    2. [Prepare Takeaways](#prepare_takeaways)\n",
    "\n",
    "<hr style=\"border-top: 10px groove tan; margin-top: 5px; margin-bottom: 5px\"></hr>"
   ]
  },
  {
   "cell_type": "markdown",
   "id": "f4b34fd4",
   "metadata": {},
   "source": [
    "<a name='exercise_summary'></a>\n",
    "## Exercise Summary"
   ]
  },
  {
   "cell_type": "markdown",
   "id": "e0b75ba9",
   "metadata": {},
   "source": [
    "<a name='exercise_objectives'></a>\n",
    "### Exercise Objectives\n",
    "> - Create a Jupter Notebook report that shows proccesses and analysis with the goal of predicting single-family housing values utilizing data predicated on Zillow 2017 estimations.\n",
    "> - The data that we are wanting to aquire involves single-family homes from the year 2017.\n",
    "> - The columns and features we want to aquire are: `bedroomcnt, bathroomcnt, calculatedfinishedsquarefeet, taxvaluedollarcnt, yearbuilt, taxamount, fips`"
   ]
  },
  {
   "cell_type": "markdown",
   "id": "4dd98701",
   "metadata": {},
   "source": [
    "<a name='deliverables'></a>\n",
    "### Deliverables\n",
    "\n",
    "> - Store all of the necessary functions to automate your process from acquiring the data to returning a cleaned dataframe with no missing values in your wrangle.py file. Name your final function `wrangle_zillow`.\n",
    "\n",
    "<div style=\"text-align: right\"><a href='#toc'>Table of Contents</a></div>\n",
    "<hr style=\"border-top: 10px groove tan; margin-top: 1px; margin-bottom: 1px\"></hr>"
   ]
  },
  {
   "cell_type": "markdown",
   "id": "f2a7b4fb",
   "metadata": {},
   "source": [
    "<a name='acquire'></a>\n",
    "## Acquire Data"
   ]
  },
  {
   "cell_type": "markdown",
   "id": "b4a5cd51",
   "metadata": {},
   "source": [
    "<a name='data_dict'></a>\n",
    "### Data Dictonary\n",
    "\n",
    "\n",
    "| Target            | Datatype                  | Definition                 |\n",
    "|:------------------|:--------------------------|:---------------------------|\n",
    "| taxvaluedollarcnt | 2152371 non-null: float64 | taxable value for the home |\n",
    "\n",
    "\n",
    "| Feature                      | Datatype                  | Definition                                    |\n",
    "|:-----------------------------|:--------------------------|:----------------------------------------------|\n",
    "| bedroomcnt                   | 2152853 non-null: float64 | quantifies the number of bedrooms in a house  |\n",
    "| bathroomcnt                  | 2152853 non-null: float64 | quantifies the number of bathrooms in a house |\n",
    "| calculatedfinishedsquarefeet | 2144379 non-null: float64 | quantifies the calculated number of sq ft.    |\n",
    "| taxvaluedollarcnt            | 2152371 non-null: float64 | taxable value for the home                    |\n",
    "| yearbuilt                    | 2143526 non-null: float64 | defines the year that the home was built      |\n",
    "| taxamount                    | 2148422 non-null: float64 | quantifies the amount of taxes the home pays  |\n",
    "| fips                         | 2152864 non-null: float64 | Federal state code                            |"
   ]
  },
  {
   "cell_type": "markdown",
   "id": "88f27719",
   "metadata": {},
   "source": [
    "<a name='data_desc'></a>\n",
    "### Data Description\n",
    "\n",
    "> - There are 2,152,864 observations and 7 attributes/features within this dataset.\n",
    "\n",
    "|                              |       count |         mean |           std |     min |       25% |       50% |      75% |              max |\n",
    "|:-----------------------------|------------:|-------------:|--------------:|--------:|----------:|----------:|---------:|-----------------:|\n",
    "| bedroomcnt                   | 2.15286e+06 |      3.28719 |      0.954754 |    0    |      3    |      3    |      4   |     25           |\n",
    "| bathroomcnt                  | 2.15286e+06 |      2.23069 |      0.999278 |    0    |      2    |      2    |      3   |     32           |\n",
    "| calculatedfinishedsquarefeet | 2.15286e+06 |   1862.86    |   1219.71     |    1    |   1259    |   1626    |   2204   | 952576           |\n",
    "| taxvaluedollarcnt            | 2.15286e+06 | 461896       | 699596        |    1    | 188216    | 327672    | 534455   |      9.84289e+07 |\n",
    "| yearbuilt                    | 2.15286e+06 |   1960.95    |     22.1141   | 1801    |   1949    |   1958    |   1975   |   2016           |\n",
    "| taxamount                    | 2.15286e+06 |   5634.86    |   8170.47     |    1.85 |   2538.28 |   4116.19 |   6406.9 |      1.33776e+06 |\n",
    "| fips                         | 2.15286e+06 |   6048.38    |     20.4333   | 6037    |   6037    |   6037    |   6059   |   6111           |\n",
    "\n",
    "\n",
    "\n",
    "> - There are numerous null values within many of the columns that will need to be rectified.\n",
    "\n",
    "|                              |Count_of_nulls|\n",
    "|:-----------------------------|-----:|\n",
    "| bedroomcnt                   |   11 |\n",
    "| bathroomcnt                  |   11 |\n",
    "| calculatedfinishedsquarefeet | 8485 |\n",
    "| taxvaluedollarcnt            |  493 |\n",
    "| yearbuilt                    | 9338 |\n",
    "| taxamount                    | 4442 |\n",
    "| fips                         |    0 |"
   ]
  },
  {
   "cell_type": "markdown",
   "id": "6136655a",
   "metadata": {},
   "source": [
    "<a name='acquire_takeaways'></a>\n",
    "### Acquire Takeaways\n",
    "\n",
    "> - It appears that there are many null values in `yearbuilt`, `calculatedfisnishedsquarefeet`, and `taxamount`\n",
    "> - Utilizing the mean would be helpful in filling these null values.\n",
    "\n",
    "\n",
    "<div style=\"text-align: right\"><a href='#toc'>Table of Contents</a></div>\n",
    "<hr style=\"border-top: 10px groove tan; margin-top: 1px; margin-bottom: 1px\"></hr>"
   ]
  },
  {
   "cell_type": "markdown",
   "id": "5ca187b6",
   "metadata": {},
   "source": [
    "<a name='prep_data'></a>\n",
    "## Prepare Data"
   ]
  },
  {
   "cell_type": "markdown",
   "id": "d77e5108",
   "metadata": {},
   "source": [
    "<a name='distributions'></a>\n",
    "### Distributions\n",
    "> - Examine the distributions of each column, however there are many observations that could be considered outliners, such as a `taxvaluedollarcnt` of \n",
    "> - The columns naming conventions could be easier to understand with a simple rename.\n",
    "> - Since we are trying to predict the home's value, we can't use `taxamount` due to that being predicated on the house's value. \n",
    "> - The `fips` and `yearbuilt` columns would be considered categorical data, due to them representing a geographic or time location, so changing the data type to a object would be better.\n",
    "> - There are numerous null values within multiple columns, so using the mean for each column is the method we are using to fill the null values\n",
    "\n",
    "![hist_data](images/histplot_zillow.png)"
   ]
  },
  {
   "cell_type": "markdown",
   "id": "d784349b",
   "metadata": {},
   "source": [
    "<a name='prepare_takeaways'></a>\n",
    "### Prepare Takeaways\n",
    "\n",
    "> - Upon initial investigation we can see that most of the `tax_val` is around the 250-300k range without the outliers \n",
    "\n",
    "<div style=\"text-align: right\"><a href='#toc'>Table of Contents</a></div>\n",
    "<hr style=\"border-top: 10px groove tan; margin-top: 1px; margin-bottom: 1px\"></hr>"
   ]
  },
  {
   "cell_type": "code",
   "execution_count": 3,
   "id": "a5541fca",
   "metadata": {
    "scrolled": true
   },
   "outputs": [],
   "source": [
    "from wrangle import *\n",
    "import warnings\n",
    "warnings.filterwarnings('ignore')\n",
    "\n",
    "df = wrangle_zillow()"
   ]
  },
  {
   "cell_type": "code",
   "execution_count": null,
   "id": "e871fe41",
   "metadata": {},
   "outputs": [],
   "source": [
    "%%html\n",
    "<style>\n",
    "  table {margin-left: 0 !important;}\n",
    "</style>"
   ]
  }
 ],
 "metadata": {
  "kernelspec": {
   "display_name": "Python 3",
   "language": "python",
   "name": "python3"
  },
  "language_info": {
   "codemirror_mode": {
    "name": "ipython",
    "version": 3
   },
   "file_extension": ".py",
   "mimetype": "text/x-python",
   "name": "python",
   "nbconvert_exporter": "python",
   "pygments_lexer": "ipython3",
   "version": "3.8.8"
  }
 },
 "nbformat": 4,
 "nbformat_minor": 5
}
